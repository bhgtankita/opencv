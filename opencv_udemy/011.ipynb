{
 "cells": [
  {
   "cell_type": "code",
   "execution_count": 1,
   "metadata": {},
   "outputs": [],
   "source": [
    "import cv2\n",
    "import numpy as np\n"
   ]
  },
  {
   "cell_type": "code",
   "execution_count": 2,
   "metadata": {},
   "outputs": [],
   "source": [
    "input = cv2.imread('./images/Kingfisher.jpg')\n",
    "cv2.imshow('Kingfisher',input)\n",
    "cv2.waitKey(0)\n",
    "cv2.destroyAllWindows()"
   ]
  },
  {
   "cell_type": "code",
   "execution_count": 10,
   "metadata": {},
   "outputs": [
    {
     "name": "stdout",
     "output_type": "stream",
     "text": [
      "(550, 1140, 3)\n"
     ]
    }
   ],
   "source": [
    "print(input.shape)"
   ]
  },
  {
   "cell_type": "code",
   "execution_count": 11,
   "metadata": {},
   "outputs": [
    {
     "data": {
      "text/plain": [
       "True"
      ]
     },
     "execution_count": 11,
     "metadata": {},
     "output_type": "execute_result"
    }
   ],
   "source": [
    "cv2.imwrite('outout.jpg', input)"
   ]
  },
  {
   "cell_type": "code",
   "execution_count": 4,
   "metadata": {},
   "outputs": [],
   "source": [
    "gray_image = cv2.cvtColor(input, cv2.COLOR_BGR2GRAY)\n",
    "cv2.imshow('Grayscale image', gray_image)\n",
    "cv2.waitKey(0)\n",
    "cv2.destroyAllWindows()"
   ]
  },
  {
   "cell_type": "code",
   "execution_count": 6,
   "metadata": {},
   "outputs": [],
   "source": [
    "image = cv2.imread('./images/Kingfisher.jpg',0)\n",
    "cv2.imshow('Grayscale',image)\n",
    "cv2.waitKey(0)\n",
    "cv2.destroyAllWindows()"
   ]
  },
  {
   "cell_type": "markdown",
   "metadata": {},
   "source": []
  },
  {
   "cell_type": "code",
   "execution_count": 2,
   "metadata": {},
   "outputs": [
    {
     "name": "stdout",
     "output_type": "stream",
     "text": [
      "3 112 56\n",
      "(550, 1140, 3)\n"
     ]
    }
   ],
   "source": [
    "input = cv2.imread('./images/Kingfisher.jpg')\n",
    "\n",
    "B, G, R = input[10,50]\n",
    "print(B,G,R)\n",
    "print(input.shape)"
   ]
  },
  {
   "cell_type": "code",
   "execution_count": 4,
   "metadata": {},
   "outputs": [
    {
     "name": "stdout",
     "output_type": "stream",
     "text": [
      "(550, 1140)\n",
      "83\n"
     ]
    }
   ],
   "source": [
    "img_gray = cv2.cvtColor(input, cv2.COLOR_BGR2GRAY)\n",
    "print(img_gray.shape)\n",
    "#cv2.imshow('Gray image',img_gray)\n",
    "print(img_gray[10,50])"
   ]
  },
  {
   "cell_type": "code",
   "execution_count": 6,
   "metadata": {},
   "outputs": [],
   "source": [
    "input = cv2.imread('./images/Kingfisher.jpg')\n",
    "hsv_img = cv2.cvtColor(input, cv2.COLOR_BGR2HSV)\n",
    "\n",
    "cv2.imshow('HSV', hsv_img)\n",
    "cv2.imshow('Hue', hsv_img[:,:,0])\n",
    "cv2.imshow('Saturation', hsv_img[:,:,1])\n",
    "cv2.imshow('Value', hsv_img[:,:,2])\n",
    "cv2.waitKey(0)\n",
    "cv2.destroyAllWindows()"
   ]
  },
  {
   "cell_type": "code",
   "execution_count": 7,
   "metadata": {},
   "outputs": [
    {
     "name": "stdout",
     "output_type": "stream",
     "text": [
      "(550, 1140)\n"
     ]
    }
   ],
   "source": [
    "input = cv2.imread('./images/Kingfisher.jpg')\n",
    "\n",
    "B,G,R = cv2.split(input)\n",
    "\n",
    "print(B.shape)\n",
    "cv2.imshow('Blue', B)\n",
    "cv2.imshow('Green', G)\n",
    "cv2.imshow('Red', R)\n",
    "cv2.waitKey(0)\n",
    "cv2.destroyAllWindows()\n",
    "\n",
    "merged = cv2.merge([B, G, R])\n",
    "cv2.imshow('Merged', merged)\n",
    "\n",
    "merged_Blue = cv2.merge([B+100, G, R])\n",
    "cv2.imshow('Merged_Blue', merged_Blue)\n",
    "\n",
    "cv2.waitKey(0)\n",
    "cv2.destroyAllWindows()"
   ]
  },
  {
   "cell_type": "code",
   "execution_count": 5,
   "metadata": {},
   "outputs": [
    {
     "name": "stdout",
     "output_type": "stream",
     "text": [
      "(550, 1140, 3)\n"
     ]
    }
   ],
   "source": [
    "input = cv2.imread('./images/Kingfisher.jpg')\n",
    "\n",
    "B,G,R = cv2.split(input)\n",
    "\n",
    "zeros = np.zeros(input.shape[:2], dtype = \"uint8\")\n",
    "\n",
    "cv2.imshow(\"Red\" , cv2.merge([zeros, zeros, R]))\n",
    "cv2.imshow(\"Green\" , cv2.merge([zeros, G, zeros]))\n",
    "cv2.imshow(\"Blue\" , cv2.merge([B, zeros, zeros]))\n",
    "\n",
    "print(cv2.merge([zeros, zeros, R]).shape)\n",
    "\n",
    "#merge_img = cv2.merge([cv2.merge([zeros, G, zeros]), cv2.merge([B, zeros, zeros]), cv2.merge([zeros, zeros, R])])\n",
    "#cv2.imshow('merge', merge_img)\n",
    "cv2.waitKey(0)\n",
    "cv2.destroyAllWindows()"
   ]
  }
 ],
 "metadata": {
  "kernelspec": {
   "display_name": "Python 3",
   "language": "python",
   "name": "python3"
  },
  "language_info": {
   "codemirror_mode": {
    "name": "ipython",
    "version": 3
   },
   "file_extension": ".py",
   "mimetype": "text/x-python",
   "name": "python",
   "nbconvert_exporter": "python",
   "pygments_lexer": "ipython3",
   "version": "3.7.1"
  }
 },
 "nbformat": 4,
 "nbformat_minor": 2
}
