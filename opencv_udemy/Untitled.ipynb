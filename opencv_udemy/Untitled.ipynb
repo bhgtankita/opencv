{
 "cells": [
  {
   "cell_type": "code",
   "execution_count": 8,
   "metadata": {},
   "outputs": [],
   "source": [
    "import cv2\n",
    "import numpy as np"
   ]
  },
  {
   "cell_type": "code",
   "execution_count": 7,
   "metadata": {},
   "outputs": [
    {
     "name": "stdout",
     "output_type": "stream",
     "text": [
      "0.7463538386001347\n",
      "0.25255930859741693\n",
      "0.21683905613397747\n",
      "0.6121728712263059\n",
      "0.2204094292022647\n",
      "[[[650  23]]\n",
      "\n",
      " [[651  22]]\n",
      "\n",
      " [[652  23]]\n",
      "\n",
      " [[651  24]]]\n"
     ]
    }
   ],
   "source": [
    "image = cv2.imread('./images/templateshape.PNG')\n",
    "image_gray = cv2.cvtColor(image, cv2.COLOR_BGR2GRAY)\n",
    "cv2.imshow('Original', image)\n",
    "cv2.waitKey(0)\n",
    "\n",
    "template = cv2.imread('./images/3Shapes.PNG')\n",
    "gray = cv2.cvtColor(template, cv2.COLOR_BGR2GRAY)\n",
    "\n",
    "ret, thres1 = cv2.threshold(image_gray, 127, 255, 0)\n",
    "ret, thres2 = cv2.threshold(gray, 127, 255, 0)\n",
    "\n",
    "contours, hierarchy = cv2.findContours(thres1, cv2.RETR_CCOMP, cv2.CHAIN_APPROX_SIMPLE)\n",
    "\n",
    "contours = sorted(contours, key = cv2.contourArea, reverse=True)\n",
    "\n",
    "template_contours = contours[1]\n",
    "\n",
    "contours, hierarchy = cv2.findContours(thres2, cv2.RETR_CCOMP, cv2.CHAIN_APPROX_SIMPLE)\n",
    "\n",
    "for c in contours:\n",
    "    match = cv2.matchShapes(template_contours, c, 1, 0.0)\n",
    "    print(match)\n",
    "    #print(c)\n",
    "    if match < 0.75:\n",
    "        closest_contour = c\n",
    "    else:\n",
    "        closest_contour = []\n",
    "\n",
    "#print(closest_contour)\n",
    "cv2.drawContours(template, closest_contour, -1, (0,255,0), 3)        \n",
    "cv2.imshow('Result', template)\n",
    "cv2.waitKey(0)\n",
    "cv2.destroyAllWindows()"
   ]
  }
 ],
 "metadata": {
  "kernelspec": {
   "display_name": "Python 3",
   "language": "python",
   "name": "python3"
  },
  "language_info": {
   "codemirror_mode": {
    "name": "ipython",
    "version": 3
   },
   "file_extension": ".py",
   "mimetype": "text/x-python",
   "name": "python",
   "nbconvert_exporter": "python",
   "pygments_lexer": "ipython3",
   "version": "3.7.1"
  }
 },
 "nbformat": 4,
 "nbformat_minor": 2
}
