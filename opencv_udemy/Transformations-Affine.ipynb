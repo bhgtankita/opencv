{
 "cells": [
  {
   "cell_type": "code",
   "execution_count": 1,
   "metadata": {},
   "outputs": [],
   "source": [
    "import cv2\n",
    "import numpy as np"
   ]
  },
  {
   "cell_type": "code",
   "execution_count": 5,
   "metadata": {},
   "outputs": [],
   "source": [
    "image = cv2.imread('./images/Modi.jpg')\n",
    "\n",
    "height, width = image.shape[:2]\n",
    "\n",
    "quater_height, quater_width = height/4, width/4\n",
    "\n",
    "T = np.float32([[1, 0, quater_width], [0, 1, quater_height]])\n",
    "\n",
    "img_translation = cv2.warpAffine(image, T, (width*2, height*2))\n",
    "cv2.imshow('Trabsformed image', img_translation)\n",
    "cv2.waitKey(0)\n",
    "cv2.destroyAllWindows()"
   ]
  },
  {
   "cell_type": "code",
   "execution_count": 7,
   "metadata": {},
   "outputs": [],
   "source": [
    "image = cv2.imread('./images/Modi.jpg')\n",
    "height, width = image.shape[:2]\n",
    "\n",
    "rotation_matrix = cv2.getRotationMatrix2D((height/2, width/2),90,0.5)\n",
    "\n",
    "rotated_image = cv2.warpAffine(image, rotation_matrix, (width, height))\n",
    "cv2.imshow('Trabsformed image', rotated_image)\n",
    "cv2.waitKey(0)\n",
    "cv2.destroyAllWindows()\n"
   ]
  },
  {
   "cell_type": "code",
   "execution_count": 2,
   "metadata": {},
   "outputs": [],
   "source": [
    "image = cv2.imread('./images/Modi.jpg')\n",
    "\n",
    "image_scaled = cv2.resize(image, None, fx=0.75, fy=0.75)\n",
    "cv2.imshow('Scaled image - Linear Interpolation', image_scaled)\n",
    "cv2.waitKey()\n",
    "\n",
    "image_scaled = cv2.resize(image, None, fx=2, fy=2, interpolation=cv2.INTER_CUBIC)\n",
    "cv2.imshow('Scaled image - Linear Interpolation', image_scaled)\n",
    "cv2.waitKey()\n",
    "\n",
    "image_scaled = cv2.resize(image, (900, 400), interpolation=cv2.INTER_AREA)\n",
    "cv2.imshow('Scaled image - Linear Interpolation', image_scaled)\n",
    "cv2.waitKey()\n",
    "\n",
    "cv2.destroyAllWindows()"
   ]
  },
  {
   "cell_type": "code",
   "execution_count": 3,
   "metadata": {},
   "outputs": [],
   "source": [
    "image = cv2.imread('./images/Modi.jpg')\n",
    "\n",
    "smaller = cv2.pyrDown(image)\n",
    "larger = cv2.pyrUp(image)\n",
    "\n",
    "cv2.imshow('PyramidDown', smaller)\n",
    "cv2.imshow('PyramidUp', larger)\n",
    "\n",
    "cv2.waitKey()\n",
    "\n",
    "cv2.destroyAllWindows()"
   ]
  },
  {
   "cell_type": "code",
   "execution_count": 4,
   "metadata": {},
   "outputs": [],
   "source": [
    "image = cv2.imread('./images/Modi.jpg')\n",
    "\n",
    "height, width = image.shape[:2]\n",
    "\n",
    "start_row, start_col = int(height * 0.25), int(width * 0.25)\n",
    "end_row, end_col = int(height * 0.75), int(width * 0.75)\n",
    "\n",
    "cropped = image[start_row:end_row, start_col:end_col]\n",
    "cv2.imshow('cropped image', cropped)\n",
    "cv2.waitKey(0)\n",
    "cv2.destroyAllWindows()"
   ]
  }
 ],
 "metadata": {
  "kernelspec": {
   "display_name": "Python 3",
   "language": "python",
   "name": "python3"
  },
  "language_info": {
   "codemirror_mode": {
    "name": "ipython",
    "version": 3
   },
   "file_extension": ".py",
   "mimetype": "text/x-python",
   "name": "python",
   "nbconvert_exporter": "python",
   "pygments_lexer": "ipython3",
   "version": "3.7.1"
  }
 },
 "nbformat": 4,
 "nbformat_minor": 2
}
