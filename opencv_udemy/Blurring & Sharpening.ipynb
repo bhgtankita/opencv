{
 "cells": [
  {
   "cell_type": "code",
   "execution_count": 1,
   "metadata": {},
   "outputs": [],
   "source": [
    "import cv2\n",
    "import numpy as np"
   ]
  },
  {
   "cell_type": "code",
   "execution_count": 2,
   "metadata": {},
   "outputs": [],
   "source": [
    "image = cv2.imread('./images/Kingfisher.jpg')\n",
    "cv2.imshow('original image',image)\n",
    "cv2.waitKey(0)\n",
    "\n",
    "kernel3x3 = np.ones((3,3), np.float32) / 9\n",
    "\n",
    "blurred = cv2.filter2D(image, -1, kernel3x3)\n",
    "cv2.imshow('blurred 3x3', blurred)\n",
    "cv2.waitKey(0)\n",
    "\n",
    "kernel7x7 = np.ones((7,7), np.float32) / 49\n",
    "\n",
    "blurred2 = cv2.filter2D(image, -1, kernel7x7)\n",
    "cv2.imshow('blurred 7x7', blurred2)\n",
    "cv2.waitKey(0)\n",
    "\n",
    "cv2.destroyAllWindows()"
   ]
  },
  {
   "cell_type": "code",
   "execution_count": 3,
   "metadata": {},
   "outputs": [],
   "source": [
    "image = cv2.imread('./images/Kingfisher.jpg')\n",
    "cv2.imshow('original image',image)\n",
    "cv2.waitKey(0)\n",
    "\n",
    "s_filter = np.array([[-1,-1,-1],\n",
    "                    [-1,9,-1],\n",
    "                    [-1,-1,-1]])\n",
    "\n",
    "sharpen_img = cv2.filter2D(image, -1, s_filter)\n",
    "cv2.imshow('Sharpen image', sharpen_img)\n",
    "cv2.waitKey(0)\n",
    "\n",
    "cv2.destroyAllWindows()"
   ]
  }
 ],
 "metadata": {
  "kernelspec": {
   "display_name": "Python 3",
   "language": "python",
   "name": "python3"
  },
  "language_info": {
   "codemirror_mode": {
    "name": "ipython",
    "version": 3
   },
   "file_extension": ".py",
   "mimetype": "text/x-python",
   "name": "python",
   "nbconvert_exporter": "python",
   "pygments_lexer": "ipython3",
   "version": "3.7.1"
  }
 },
 "nbformat": 4,
 "nbformat_minor": 2
}
