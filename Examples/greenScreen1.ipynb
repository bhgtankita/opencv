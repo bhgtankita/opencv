{
 "cells": [
  {
   "cell_type": "code",
   "execution_count": 1,
   "metadata": {},
   "outputs": [],
   "source": [
    "import cv2\n",
    "import numpy as np"
   ]
  },
  {
   "cell_type": "code",
   "execution_count": 11,
   "metadata": {},
   "outputs": [],
   "source": [
    "image = cv2.imread('./images/car_green_screen.jpg')\n",
    "\n",
    "#BGR to HSV conversion\n",
    "hsv = cv2.cvtColor(image, cv2.COLOR_BGR2HSV)\n",
    "\n",
    "#define color range\n",
    "lower_green = np.array([40, 0, 0])\n",
    "upper_green = np.array([70, 255, 255])\n",
    "\n",
    "#capture values only in green range\n",
    "mask = cv2.inRange(hsv, lower_green, upper_green)\n",
    "mask_reverse = cv2.bitwise_not(mask)\n",
    "\n",
    "#kernel = np.ones((5,5), np.uint8)\n",
    "#dilation_mask = cv2.dilate(mask_reverse, kernel, iterations=1)\n",
    "\n",
    "#\n",
    "result = cv2.bitwise_and(image, image, mask=mask_reverse)\n",
    "\n",
    "cv2.imshow('Original', image)\n",
    "cv2.imshow('Mask', mask)\n",
    "cv2.imshow('Mask Reverse', mask_reverse)\n",
    "cv2.imshow('Result', result)\n",
    "\n",
    "cv2.waitKey(0)\n",
    "cv2.destroyAllWindows()"
   ]
  },
  {
   "cell_type": "code",
   "execution_count": 30,
   "metadata": {},
   "outputs": [],
   "source": [
    "image = cv2.imread('./images/car_green_screen.jpg')\n",
    "backg = cv2.imread('./images/space_background.jpg')\n",
    "\n",
    "height, width = image.shape[:2]\n",
    "\n",
    "resizeBack = cv2.resize(backg, (width, height), interpolation = cv2.INTER_CUBIC)\n",
    "#print(image.shape)\n",
    "#print(resizeBack.shape)\n",
    "#BGR to HSV conversion\n",
    "hsv = cv2.cvtColor(image, cv2.COLOR_BGR2HSV)\n",
    "\n",
    "#define color range\n",
    "lower_green = np.array([40, 0, 0])\n",
    "upper_green = np.array([70, 255, 255])\n",
    "\n",
    "#capture values only in green range\n",
    "mask = cv2.inRange(hsv, lower_green, upper_green)\n",
    "mask_reverse = cv2.bitwise_not(mask)\n",
    "\n",
    "#kernel = np.ones((5,5), np.uint8)\n",
    "#dilation_mask = cv2.dilate(mask_reverse, kernel, iterations=1)\n",
    "\n",
    "#\n",
    "result = cv2.bitwise_and(image, image, mask=mask_reverse)\n",
    "result[np.where((result == [0,0,0]).all(axis = 2))] = [255,255,255]\n",
    "result1 = cv2.bitwise_and(resizeBack, resizeBack, mask=mask)\n",
    "result1[np.where((result1 == [0,0,0]).all(axis = 2))] = [255,255,255]\n",
    "new = result + result1\n",
    "#resultf = cv2.bitwise_and(resizeBack, resizeBack, mask=result)\n",
    "#r = cv2.bitwise_and(result1, result1, mask= result)\n",
    "#cv2.imshow('Result', result)\n",
    "#cv2.imshow('Result1', result1)\n",
    "#cv2.imshow('R', r)\n",
    "#cv2.imshow('Original', image)\n",
    "#cv2.imshow('Mask', mask)\n",
    "#cv2.imshow('Mask Reverse', mask_reverse)\n",
    "cv2.imshow('Result', result)\n",
    "cv2.imshow('result1', result1)\n",
    "cv2.imshow('New', new)\n",
    "\n",
    "cv2.waitKey(0)\n",
    "cv2.destroyAllWindows()"
   ]
  }
 ],
 "metadata": {
  "kernelspec": {
   "display_name": "Python 3",
   "language": "python",
   "name": "python3"
  },
  "language_info": {
   "codemirror_mode": {
    "name": "ipython",
    "version": 3
   },
   "file_extension": ".py",
   "mimetype": "text/x-python",
   "name": "python",
   "nbconvert_exporter": "python",
   "pygments_lexer": "ipython3",
   "version": "3.7.1"
  }
 },
 "nbformat": 4,
 "nbformat_minor": 2
}
